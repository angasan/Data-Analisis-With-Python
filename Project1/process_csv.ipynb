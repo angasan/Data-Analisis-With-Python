{
 "cells": [
  {
   "cell_type": "code",
   "execution_count": 1,
   "id": "1e409d77",
   "metadata": {},
   "outputs": [],
   "source": [
    "# project: p6"
   ]
  },
  {
   "cell_type": "code",
   "execution_count": 2,
   "id": "dea02645",
   "metadata": {},
   "outputs": [],
   "source": [
    "## Modules that will be needed.\n",
    "import csv\n",
    "import math"
   ]
  },
  {
   "cell_type": "code",
   "execution_count": 3,
   "id": "b79cbd85",
   "metadata": {},
   "outputs": [],
   "source": [
    "# Process a csv:\n",
    "def process_csv(filename):\n",
    "    example_file = open(filename, encoding=\"utf-8\")\n",
    "    example_reader = csv.reader(example_file)\n",
    "    example_data = list(example_reader) \n",
    "    example_file.close()\n",
    "    return example_data"
   ]
  },
  {
   "cell_type": "code",
   "execution_count": 4,
   "id": "9b8c95c1",
   "metadata": {},
   "outputs": [],
   "source": [
    "# Pull out the ata from a file\n",
    "csv_rows = process_csv(\"airbnb.csv\")\n",
    "csv_header = csv_rows[0] # header of the data\n",
    "csv_data = csv_rows[1:] "
   ]
  },
  {
   "cell_type": "code",
   "execution_count": 5,
   "id": "9f26fcff",
   "metadata": {},
   "outputs": [],
   "source": [
    "def cell(row_idx, col_name):\n",
    "    \"\"\"\n",
    "    Returns the data value (cell) corresponding to the row index and \n",
    "    the column name of a CSV file.\n",
    "    \"\"\"\n",
    "    integers = [\"price\", \"minimum_nights\",\"number_of_reviews\",\"calculated_host_listings_count\",\"availability_365\"]\n",
    "    floats = [\"latitude\",\"longitude\",\"reviews_per_month\"]\n",
    "    col_idx = csv_header.index(col_name)\n",
    "    val = csv_data[row_idx][col_idx]\n",
    "    if val == \"\":\n",
    "        return None\n",
    "        \n",
    "    if col_name in integers:\n",
    "        val = int(val)\n",
    "    elif col_name in floats:\n",
    "        val = float(val)\n",
    "    return val"
   ]
  },
  {
   "cell_type": "code",
   "execution_count": 6,
   "id": "26eef8b0",
   "metadata": {},
   "outputs": [
    {
     "data": {
      "text/plain": [
       "['Queens', 'Manhattan', 'Bronx', 'Brooklyn', 'Staten Island']"
      ]
     },
     "execution_count": 6,
     "metadata": {},
     "output_type": "execute_result"
    }
   ],
   "source": [
    "#Q1: What unique neighborhood groups are included in the Airbnb dataset?\n",
    "group = list()\n",
    "for i in range(len(csv_data)):\n",
    "    group.append(cell(i, \"neighborhood_group\"))\n",
    "\n",
    "list(set(group))"
   ]
  },
  {
   "cell_type": "code",
   "execution_count": 7,
   "id": "2e53a69c",
   "metadata": {},
   "outputs": [
    {
     "data": {
      "text/plain": [
       "152"
      ]
     },
     "execution_count": 7,
     "metadata": {},
     "output_type": "execute_result"
    }
   ],
   "source": [
    "#Q2: What is the average price of rooms in the Airbnb dataset?\n",
    "\n",
    "price = list()\n",
    "for i in range(len(csv_data)):\n",
    "    price.append(cell(i, \"price\"))\n",
    "math.floor(sum(price)/len(price))"
   ]
  },
  {
   "cell_type": "code",
   "execution_count": 8,
   "id": "4ae918a3",
   "metadata": {},
   "outputs": [
    {
     "data": {
      "text/plain": [
       "252"
      ]
     },
     "execution_count": 8,
     "metadata": {},
     "output_type": "execute_result"
    }
   ],
   "source": [
    "#Q3: How many rooms are in the neighborhood of Inwood?\n",
    "\n",
    "count = 0\n",
    "for i in range(len(csv_data)):\n",
    "    if cell(i, \"neighborhood\") == \"Inwood\":\n",
    "        count += 1\n",
    "count"
   ]
  },
  {
   "cell_type": "code",
   "execution_count": 9,
   "id": "8f8e9d86",
   "metadata": {},
   "outputs": [],
   "source": [
    "def find_room_names(phrase):\n",
    "    \"\"\"\n",
    "    Returns a list of all the room names that contain the substring (case insensitive match)\n",
    "    passed as an argument to the paramenter `phrase`. \n",
    "    \"\"\"\n",
    "    list_names = list()\n",
    "    for i in range(len(csv_data)):\n",
    "        room_name = cell(i, \"name\")\n",
    "        if room_name == None:\n",
    "            continue\n",
    "        if phrase.lower() in room_name.lower():\n",
    "            list_names.append(room_name)\n",
    "    return list_names\n",
    "    "
   ]
  },
  {
   "cell_type": "code",
   "execution_count": 10,
   "id": "1091cd4f",
   "metadata": {},
   "outputs": [
    {
     "data": {
      "text/plain": [
       "['CBG CtyBGd HelpsHaiti rm#1:1-4',\n",
       " 'CBG Helps Haiti Room#2.5',\n",
       " 'CBG Helps Haiti Rm #2',\n",
       " 'CBG# 4Tiny room w/ huge window/AC',\n",
       " 'CBG Helps Haiti Rm #3',\n",
       " 'CBG HelpsHaiti #5 Suite']"
      ]
     },
     "execution_count": 10,
     "metadata": {},
     "output_type": "execute_result"
    }
   ],
   "source": [
    "#Q4: Find all room names that contains string \"CBG\".\n",
    "find_room_names(\"CBG\")"
   ]
  },
  {
   "cell_type": "code",
   "execution_count": 11,
   "id": "e03dc013",
   "metadata": {},
   "outputs": [
    {
     "data": {
      "text/plain": [
       "['Private room with shared bathroom and kitchen',\n",
       " 'Beautiful Private Bed & Bathroom (no kitchen)',\n",
       " 'Big Kitchen, Beautiful Bathroom',\n",
       " 'Pvt Room W/Pvt Bathroom; NO KITCHEN!',\n",
       " 'Cozy Room, kitchen bathroom & Patio Brooklyn NY',\n",
       " 'Private Large Bedroom Apt w/ Bathroom (NO KITCHEN)',\n",
       " 'Suite nearJFK with private bathroom and kitchen',\n",
       " 'PRIVATE BATHROOM  AND KITCHEN AREA',\n",
       " 'Private Studio w/Bathroom & Kitchenette',\n",
       " '2 Bedrooms PRIVATE BATHROOM AND KITCHEN',\n",
       " '2 bedroom 1 bathroom kitchen and living area',\n",
       " 'Work Friendly, Private Bathroom and Kitchen',\n",
       " 'Back bedroom next to kitchen and bathroom',\n",
       " 'Cozy studio w/kitchen & bathroom. Great location',\n",
       " 'Two Bedrooms with Four Beds, Bathroom, Kitchenette',\n",
       " 'Family Room/Kitchen/Shared Bathroom',\n",
       " \"2 Bedrooms & 2 Bathrooms Apt in Hell's Kitchen\",\n",
       " 'JFK Studio Flat with Kitchen and Private bathroom',\n",
       " 'The printing studio bedroom with garden in Bedstuy  !!Brooklyn. Historic neighborhood close to everything ! Full kitchen bathroom BBQ and porch at your disposal. Learn to print !!',\n",
       " 'Private room w/ bathroom & kitchen!',\n",
       " 'Cozy studio/kitchen, bathroom',\n",
       " '2BR- Private Kitchen + Bathroom-20min to Manhattan']"
      ]
     },
     "execution_count": 11,
     "metadata": {},
     "output_type": "execute_result"
    }
   ],
   "source": [
    "#Q5: Find all room names that contain both \"kitchen\" and \"bathroom\".\n",
    "kitchen = find_room_names(\"kitchen\")\n",
    "bathroom = find_room_names(\"bathroom\")\n",
    "list(set(kitchen) & set(bathroom))"
   ]
  },
  {
   "cell_type": "code",
   "execution_count": 12,
   "id": "83649cdd",
   "metadata": {},
   "outputs": [
    {
     "data": {
      "text/plain": [
       "['Leisa', 'Elias', 'Elisa']"
      ]
     },
     "execution_count": 12,
     "metadata": {},
     "output_type": "execute_result"
    }
   ],
   "source": [
    "#Q6: Which host names are anagrams of the word \"aisle\"?\n",
    "host_names = list()\n",
    "for i in range(len(csv_data)):\n",
    "    name = cell(i, \"host_name\")\n",
    "    if name == None:\n",
    "        continue\n",
    "    name2 = name.lower()\n",
    "    if sorted(name2) == sorted(\"aisle\"):\n",
    "        host_names.append(name)\n",
    "list(set(host_names))"
   ]
  },
  {
   "cell_type": "code",
   "execution_count": 13,
   "id": "b0fd84da",
   "metadata": {},
   "outputs": [
    {
     "data": {
      "text/plain": [
       "['26785', '31994', '166172', '195233', '699472', '3474320']"
      ]
     },
     "execution_count": 13,
     "metadata": {},
     "output_type": "execute_result"
    }
   ],
   "source": [
    "#Q7: List all room ids that received more than 400 reviews in \"Brooklyn\".\n",
    "room_ids = list()\n",
    "for i in range(len(csv_data)):\n",
    "    num_reviews = cell(i, \"number_of_reviews\")\n",
    "    neighborhood = cell(i, \"neighborhood_group\")\n",
    "    if num_reviews != None and num_reviews > 400 and neighborhood == \"Brooklyn\":\n",
    "        room_ids.append(cell(i, \"room_id\"))\n",
    "room_ids"
   ]
  },
  {
   "cell_type": "code",
   "execution_count": 14,
   "id": "f7359978",
   "metadata": {},
   "outputs": [
    {
     "data": {
      "text/plain": [
       "2.2159641752458334"
      ]
     },
     "execution_count": 14,
     "metadata": {},
     "output_type": "execute_result"
    }
   ],
   "source": [
    "#Q8: What percentage of rooms in Manhattan neighborhood group are of shared type (\"Shared room\")?\n",
    "count = 0\n",
    "count2 = 0\n",
    "for i in range(len(csv_data)):\n",
    "    type_room = cell(i, \"room_type\")\n",
    "    neighborhood = cell(i, \"neighborhood_group\")\n",
    "    if num_reviews == None:\n",
    "        continue\n",
    "    if neighborhood == \"Manhattan\":\n",
    "        count += 1\n",
    "        if type_room == \"Shared room\":\n",
    "            count2 += 1\n",
    "(count2/count)*100"
   ]
  },
  {
   "cell_type": "code",
   "execution_count": 15,
   "id": "5fbd49e4",
   "metadata": {},
   "outputs": [
    {
     "data": {
      "text/plain": [
       "['391948', '6072842', '7026258', '8482165', '10685496', '13040683']"
      ]
     },
     "execution_count": 15,
     "metadata": {},
     "output_type": "execute_result"
    }
   ],
   "source": [
    "#Q9: Which shared room ids in Queens neighborhood group received their last review in the year 2016 or earlier?\n",
    "room_ids = list()\n",
    "for i in range(len(csv_data)):\n",
    "    room_id = cell(i, \"room_id\")\n",
    "    neighborhood = cell(i, \"neighborhood_group\")\n",
    "    room_type = cell(i, \"room_type\")\n",
    "    date_year = cell(i, \"last_review\")\n",
    "    if date_year == None or room_id == None or neighborhood != \"Queens\":\n",
    "        continue\n",
    "    date_year = int(date_year[0:4])\n",
    "    if room_type == \"Shared room\" and date_year <= 2016:\n",
    "        room_ids.append(room_id)\n",
    "room_ids"
   ]
  },
  {
   "cell_type": "code",
   "execution_count": 16,
   "id": "5624fdc0",
   "metadata": {},
   "outputs": [],
   "source": [
    "def availability_per_host_name(search_host_name, search_neighborhood = None):\n",
    "    \"\"\"\n",
    "    Returns a list of availabilities (availability_365) for the rooms with the \n",
    "    specified host_name (case insensitive match) and within the specified neighborhood. \n",
    "    If search_neighborhood is None, returns a list of availabilities for all rooms with \n",
    "    the specified host_name (case insensitive match).\n",
    "    \"\"\"\n",
    "    availabilities = list()\n",
    "    for i in range(len(csv_data)):\n",
    "        availability = cell(i, \"availability_365\")\n",
    "        neighborhood = cell(i, \"neighborhood\")\n",
    "        host_name = cell(i, \"host_name\")\n",
    "        if availability == None or host_name == None or neighborhood == None:\n",
    "            continue\n",
    "        if search_neighborhood == None:\n",
    "            if search_host_name.lower() == host_name.lower():\n",
    "                availabilities.append(availability)\n",
    "        elif search_neighborhood.lower() == neighborhood.lower() and search_host_name.lower() == host_name.lower():\n",
    "            availabilities.append(availability)\n",
    "    availabilities.sort(reverse = True)\n",
    "    return availabilities"
   ]
  },
  {
   "cell_type": "code",
   "execution_count": 17,
   "id": "5a5b2e95",
   "metadata": {},
   "outputs": [
    {
     "data": {
      "text/plain": [
       "[301, 300, 285, 281, 279, 279, 273, 265, 229]"
      ]
     },
     "execution_count": 17,
     "metadata": {},
     "output_type": "execute_result"
    }
   ],
   "source": [
    "#Q10: What are the different availabilities of all rooms in the neighborhood \"Long Island City\" whose host name is \"Leo\"?\n",
    "availability_per_host_name(\"Leo\", \"Long Island City\")\n"
   ]
  },
  {
   "cell_type": "code",
   "execution_count": 38,
   "id": "5c5b8486",
   "metadata": {},
   "outputs": [
    {
     "data": {
      "text/plain": [
       "357"
      ]
     },
     "execution_count": 38,
     "metadata": {},
     "output_type": "execute_result"
    }
   ],
   "source": [
    "#Q11: What is the difference between the most and least availability among all rooms whose host name is \"Pauline\"?\n",
    "lista = availability_per_host_name(\"Pauline\")\n",
    "#lista[0] - lista[-1] # we want to be safe with the hardcoding but we think this would allways work as the list is sorted\n",
    "abs(min(lista) - max(lista))"
   ]
  },
  {
   "cell_type": "code",
   "execution_count": 19,
   "id": "c529daa1",
   "metadata": {},
   "outputs": [],
   "source": [
    "def find_prices_within(lat_min, lat_max, long_min, long_max):\n",
    "    \"\"\"\n",
    "    Returns a list of prices of all the rooms within the geographical location between and including\n",
    "    the latitudes lat_min and lat_max and longitudes long_min and long_max.\n",
    "    \"\"\"\n",
    "    prices = list()\n",
    "    for i in range(len(csv_data)):\n",
    "        latitude = cell(i, \"latitude\")\n",
    "        longitude = cell(i, \"longitude\")\n",
    "        price = cell(i, \"price\")\n",
    "        if latitude == None or longitude == None or price == None:\n",
    "            continue\n",
    "        if latitude > lat_max or latitude < lat_min or longitude > long_max or longitude < long_min:\n",
    "            continue\n",
    "        prices.append(price)\n",
    "    \n",
    "    prices.sort()\n",
    "    return prices"
   ]
  },
  {
   "cell_type": "code",
   "execution_count": 39,
   "id": "5ea64c5d",
   "metadata": {},
   "outputs": [
    {
     "data": {
      "text/plain": [
       "75"
      ]
     },
     "execution_count": 39,
     "metadata": {},
     "output_type": "execute_result"
    }
   ],
   "source": [
    "#Q12: What is the lowest price room near NYU (40.729 <= latitude <= 40.73, -74.01 <= longitude <= -74.00)??\n",
    "lista = find_prices_within(40.729, 40.73, -74.01, -74.00)\n",
    "min(lista)"
   ]
  },
  {
   "cell_type": "code",
   "execution_count": 21,
   "id": "b5073442",
   "metadata": {},
   "outputs": [],
   "source": [
    "def median(some_list):\n",
    "    \"\"\"\n",
    "    Returns median of a list passed as arugment\n",
    "    \"\"\"\n",
    "    \n",
    "    # STEP 1: sort the list\n",
    "    some_list.sort()\n",
    "    \n",
    "    # STEP 2: determine the length of the list\n",
    "    list_length = len(some_list)\n",
    "    \n",
    "    # STEP 3: determine whether length of the list is odd\n",
    "    if list_length%2 != 0:\n",
    "        # return item in the middle using indexing\n",
    "        return some_list[list_length//2]\n",
    "    else:\n",
    "        first_middle = some_list[list_length//2 - 1] # use appropriate indexing\n",
    "        second_middle = some_list[list_length//2] # use appropriate indexing\n",
    "        median = (first_middle + second_middle) // 2\n",
    "        return median"
   ]
  },
  {
   "cell_type": "code",
   "execution_count": 22,
   "id": "61bd0b1d",
   "metadata": {},
   "outputs": [
    {
     "data": {
      "text/plain": [
       "100"
      ]
     },
     "execution_count": 22,
     "metadata": {},
     "output_type": "execute_result"
    }
   ],
   "source": [
    "#Q13: What is the median price of the rooms near Columbia University \n",
    "#(40.79 <= latitude <= 40.80, -73.96 <= longitude <= -73.95)?\n",
    "median(find_prices_within(40.79, 40.80, -73.96, -73.95))"
   ]
  },
  {
   "cell_type": "code",
   "execution_count": 23,
   "id": "1e5cf4f7",
   "metadata": {},
   "outputs": [
    {
     "data": {
      "text/plain": [
       "93.10344827586206"
      ]
     },
     "execution_count": 23,
     "metadata": {},
     "output_type": "execute_result"
    }
   ],
   "source": [
    "#Q14: What percentage of rooms near Rockerfeller Center \n",
    "#(40.749 <= latitude <= 40.75, -73.98 <= longitude <= -73.97) have a price more than $100?\n",
    "lista = find_prices_within(40.749,40.75, -73.98, -73.97)\n",
    "count = 0\n",
    "for i in range(len(lista)):\n",
    "    if lista[i] > 100:\n",
    "        count += 1\n",
    "(count/len(lista))*100"
   ]
  },
  {
   "cell_type": "code",
   "execution_count": 24,
   "id": "b089a0ad",
   "metadata": {},
   "outputs": [],
   "source": [
    "def avg_ratio(given_neighborhood):\n",
    "    list_ratios = list()\n",
    "    for i in range(len(csv_data)):\n",
    "        neighborhood = cell(i, \"neighborhood\")\n",
    "        availability = cell(i, \"availability_365\")\n",
    "        num_reviews = cell(i, \"number_of_reviews\")\n",
    "        if neighborhood == None or availability == None or num_reviews == None or availability == 0:\n",
    "            continue\n",
    "        if neighborhood.lower() == given_neighborhood.lower():\n",
    "            list_ratios.append(num_reviews/availability)\n",
    "    return sum(list_ratios)/len(list_ratios)"
   ]
  },
  {
   "cell_type": "code",
   "execution_count": 25,
   "id": "dbf45944",
   "metadata": {},
   "outputs": [
    {
     "data": {
      "text/plain": [
       "0.15472762967118855"
      ]
     },
     "execution_count": 25,
     "metadata": {},
     "output_type": "execute_result"
    }
   ],
   "source": [
    "#Q15: What is the average ratio of the number of reviews to availability in the neighborhood Arrochar?\n",
    "avg_ratio(\"Arrochar\")"
   ]
  },
  {
   "cell_type": "code",
   "execution_count": 26,
   "id": "1d5881b2",
   "metadata": {},
   "outputs": [
    {
     "data": {
      "text/plain": [
       "0.22369125775160625"
      ]
     },
     "execution_count": 26,
     "metadata": {},
     "output_type": "execute_result"
    }
   ],
   "source": [
    "#Q16: What is the average ratio of the number of reviews to availability in the neighborhood Tompkinsville?\n",
    "avg_ratio(\"Tompkinsville\")"
   ]
  },
  {
   "cell_type": "code",
   "execution_count": 27,
   "id": "78694d73",
   "metadata": {},
   "outputs": [
    {
     "data": {
      "text/plain": [
       "'Cobble Hill'"
      ]
     },
     "execution_count": 27,
     "metadata": {},
     "output_type": "execute_result"
    }
   ],
   "source": [
    "#Q17: Which neighborhood in the neighborhood group Brooklyn has the highest average ratio of \n",
    "#the number of reviews to availability?\n",
    "neighborhoods = list()\n",
    "\n",
    "# Get a list with the neighborhoods in the Brooklyn group\n",
    "for i in range(len(csv_data)):\n",
    "    neighborhood_group = cell(i,\"neighborhood_group\")\n",
    "    if neighborhood_group == \"Brooklyn\":\n",
    "        neighborhoods.append(cell(i,\"neighborhood\"))\n",
    "        \n",
    "neighborhoods = list(set(neighborhoods)) # make sure there are no duplicates\n",
    "\n",
    "# Get a list of the avg ratios for each neighborhood\n",
    "ratios = list()\n",
    "for i in range(len(neighborhoods)):\n",
    "    ratios.append(avg_ratio(neighborhoods[i]))\n",
    "        \n",
    "neighborhoods[ratios.index(max(ratios))]"
   ]
  },
  {
   "cell_type": "code",
   "execution_count": 28,
   "id": "12a20afe",
   "metadata": {},
   "outputs": [],
   "source": [
    "def secondary_word_in_found_rooms(find_room_word, secondary_word):\n",
    "    \"\"\"\n",
    "    Returns the percentage of names containing one word find_room_word (case insensitive match)\n",
    "    that also contains another word secondary_word (case insensitive match).\n",
    "    \"\"\"    \n",
    "    room_word = find_room_names(find_room_word)\n",
    "    secondary = find_room_names(secondary_word)\n",
    "    both = list(set(room_word) & set(secondary))\n",
    "    \n",
    "    return (len(both) / len(room_word)) * 100\n",
    "    "
   ]
  },
  {
   "cell_type": "code",
   "execution_count": 29,
   "id": "02278268",
   "metadata": {},
   "outputs": [
    {
     "data": {
      "text/plain": [
       "9.649122807017543"
      ]
     },
     "execution_count": 29,
     "metadata": {},
     "output_type": "execute_result"
    }
   ],
   "source": [
    "#Q18: What percentage of rooms whose names contain the word \"quiet\" also contain the word \"clean\"?\n",
    "secondary_word_in_found_rooms(\"quiet\", \"clean\")"
   ]
  },
  {
   "cell_type": "code",
   "execution_count": 30,
   "id": "0ac716a0",
   "metadata": {},
   "outputs": [
    {
     "data": {
      "text/plain": [
       "3.847418612298586"
      ]
     },
     "execution_count": 30,
     "metadata": {},
     "output_type": "execute_result"
    }
   ],
   "source": [
    "#Q19: What percentage of rooms whose names contain the word \"sunny\" also contain the word \"beautiful\"?\n",
    "secondary_word_in_found_rooms(\"sunny\", \"beautiful\")"
   ]
  },
  {
   "cell_type": "code",
   "execution_count": 31,
   "id": "87c54aa7",
   "metadata": {},
   "outputs": [],
   "source": [
    "def get_availability(neighborhood_group,num_days):\n",
    "    availables = list()\n",
    "    \n",
    "    # iterate over the data\n",
    "    for i in range(len(csv_data)):\n",
    "        \n",
    "        # get the ndata we need\n",
    "        neighborhood_g = cell(i, \"neighborhood_group\")\n",
    "        availability = cell(i, \"availability_365\")\n",
    "        room_id = cell(i, \"room_id\")\n",
    "        minimum_nights = cell(i, \"minimum_nights\")\n",
    "        \n",
    "        # check that the values we are working with are not valid\n",
    "        if neighborhood_g == None or availability == None or room_id == None or minimum_nights == None:\n",
    "            continue\n",
    "            \n",
    "        # check if the room is okay with the number of nights I want to stay\n",
    "        if minimum_nights < num_days: \n",
    "            continue\n",
    "        \n",
    "        # check if the room is available for as long as I want and in the desired neighborhood\n",
    "        if neighborhood_g.lower() == neighborhood_group.lower() and availability >= num_days:\n",
    "            availables.append(room_id) # Add the room_id to the list of available rooms\n",
    "    return availables"
   ]
  },
  {
   "cell_type": "code",
   "execution_count": 32,
   "id": "06f21b40",
   "metadata": {},
   "outputs": [],
   "source": [
    "def get_min_price(availables):\n",
    "    prices = list()\n",
    "    \n",
    "    # Iterate over the data set\n",
    "    for i in range(len(csv_data)):\n",
    "        \n",
    "        # get the variables we need\n",
    "        room_id = cell(i, \"room_id\")\n",
    "        price = cell(i, \"price\")\n",
    "        \n",
    "        # check if the variables are not valid\n",
    "        if room_id == None or price == None:\n",
    "            continue\n",
    "            \n",
    "        # Check if the room is one of the available rooms for my stay\n",
    "        if room_id in availables:\n",
    "            prices.append(price) # get the price of the available rooms and add it to the list of prices\n",
    "        \n",
    "    return min(prices) # return the minimum price in that list"
   ]
  },
  {
   "cell_type": "code",
   "execution_count": 33,
   "id": "91812e44",
   "metadata": {},
   "outputs": [
    {
     "data": {
      "text/plain": [
       "30"
      ]
     },
     "execution_count": 33,
     "metadata": {},
     "output_type": "execute_result"
    }
   ],
   "source": [
    "#Q20: What is the minimum amount of money one needs to spend to stay for 3 days in Queens, and then 4 \n",
    "#days in Brooklyn?\n",
    "\n",
    "(get_min_price(get_availability(\"Queens\",3)) * 3) + (get_min_price(get_availability(\"Brooklyn\",4)) * 4)"
   ]
  },
  {
   "cell_type": "code",
   "execution_count": null,
   "id": "0a85c105",
   "metadata": {},
   "outputs": [],
   "source": []
  }
 ],
 "metadata": {
  "kernelspec": {
   "display_name": "Python 3 (ipykernel)",
   "language": "python",
   "name": "python3"
  },
  "language_info": {
   "codemirror_mode": {
    "name": "ipython",
    "version": 3
   },
   "file_extension": ".py",
   "mimetype": "text/x-python",
   "name": "python",
   "nbconvert_exporter": "python",
   "pygments_lexer": "ipython3",
   "version": "3.9.7"
  }
 },
 "nbformat": 4,
 "nbformat_minor": 5
}
