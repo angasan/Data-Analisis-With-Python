{
 "cells": [
  {
   "cell_type": "code",
   "execution_count": 2,
   "id": "6c277e06",
   "metadata": {},
   "outputs": [],
   "source": [
    "# project: p12"
   ]
  },
  {
   "cell_type": "code",
   "execution_count": 1,
   "id": "efe57385",
   "metadata": {},
   "outputs": [],
   "source": [
    "#Write import statements here\n",
    "import time\n",
    "import requests\n",
    "import os\n",
    "import json\n",
    "import pandas as pd\n",
    "from bs4 import BeautifulSoup"
   ]
  },
  {
   "cell_type": "code",
   "execution_count": 3,
   "id": "cb59d2ba",
   "metadata": {},
   "outputs": [],
   "source": [
    "def download(filename, url):\n",
    "    if os.path.exists(filename):\n",
    "        return (str(filename) + \" already exists!\")\n",
    "    # make the request\n",
    "    r = requests.get(url)\n",
    "    # get the text\n",
    "    file_text = r.text\n",
    "    # open the file\n",
    "    f = open(filename, \"w\", encoding = \"utf-8\")\n",
    "    # write to the file\n",
    "    f.write(file_text)\n",
    "    # close the file\n",
    "    f.close()\n",
    "    return (str(filename) + \" created!\")"
   ]
  },
  {
   "cell_type": "code",
   "execution_count": 6,
   "id": "3171988e",
   "metadata": {},
   "outputs": [
    {
     "data": {
      "text/plain": [
       "'2021-2022.html already exists!'"
      ]
     },
     "execution_count": 6,
     "metadata": {},
     "output_type": "execute_result"
    }
   ],
   "source": [
    "# If the notebook has already been run, this files will already exist. If you want to make sure everything is okay, download them again\n",
    "\n",
    "y2019 = \"https://raw.githubusercontent.com/msyamkumar/cs220-s22-projects/main/p12/2019-2020.html\"\n",
    "y2020 = \"https://raw.githubusercontent.com/msyamkumar/cs220-s22-projects/main/p12/2020-2021.html\"\n",
    "y2021 = \"https://raw.githubusercontent.com/msyamkumar/cs220-s22-projects/main/p12/2021-2022.html\"\n",
    "\n",
    "download(\"rankings.json\",\"https://raw.githubusercontent.com/msyamkumar/cs220-s22-projects/main/p12/rankings.json\")\n",
    "download(\"2019-2020.html\", y2019)\n",
    "download(\"2020-2021.html\", y2020)\n",
    "download(\"2021-2022.html\", y2021)"
   ]
  },
  {
   "cell_type": "code",
   "execution_count": 7,
   "id": "ecdb7690",
   "metadata": {},
   "outputs": [],
   "source": [
    "# Open \"rakings.json\" with pd.read_json. Casting it to a DataFrame for liting purposes\n",
    "rankings = pd.DataFrame(pd.read_json(\"rankings.json\"))"
   ]
  },
  {
   "cell_type": "code",
   "execution_count": 8,
   "id": "bc36544f",
   "metadata": {},
   "outputs": [
    {
     "data": {
      "text/plain": [
       "103"
      ]
     },
     "execution_count": 8,
     "metadata": {},
     "output_type": "execute_result"
    }
   ],
   "source": [
    "#Q1: How many countries do we have in our dataset?\n",
    "len(set(rankings[\"Country\"]))"
   ]
  },
  {
   "cell_type": "code",
   "execution_count": 9,
   "id": "d5720de0",
   "metadata": {},
   "outputs": [
    {
     "data": {
      "text/html": [
       "<div>\n",
       "<style scoped>\n",
       "    .dataframe tbody tr th:only-of-type {\n",
       "        vertical-align: middle;\n",
       "    }\n",
       "\n",
       "    .dataframe tbody tr th {\n",
       "        vertical-align: top;\n",
       "    }\n",
       "\n",
       "    .dataframe thead th {\n",
       "        text-align: right;\n",
       "    }\n",
       "</style>\n",
       "<table border=\"1\" class=\"dataframe\">\n",
       "  <thead>\n",
       "    <tr style=\"text-align: right;\">\n",
       "      <th></th>\n",
       "      <th>World Rank</th>\n",
       "      <th>Year</th>\n",
       "      <th>Institution</th>\n",
       "      <th>Country</th>\n",
       "      <th>National Rank</th>\n",
       "      <th>Quality of Education Rank</th>\n",
       "      <th>Alumni Employment Rank</th>\n",
       "      <th>Quality of Faculty Rank</th>\n",
       "      <th>Research Performance Rank</th>\n",
       "      <th>Score</th>\n",
       "    </tr>\n",
       "  </thead>\n",
       "  <tbody>\n",
       "    <tr>\n",
       "      <th>0</th>\n",
       "      <td>1</td>\n",
       "      <td>2019-2020</td>\n",
       "      <td>Harvard University</td>\n",
       "      <td>USA</td>\n",
       "      <td>1</td>\n",
       "      <td>2.0</td>\n",
       "      <td>1.0</td>\n",
       "      <td>1.0</td>\n",
       "      <td>1.0</td>\n",
       "      <td>100.0</td>\n",
       "    </tr>\n",
       "    <tr>\n",
       "      <th>2000</th>\n",
       "      <td>1</td>\n",
       "      <td>2020-2021</td>\n",
       "      <td>Harvard University</td>\n",
       "      <td>USA</td>\n",
       "      <td>1</td>\n",
       "      <td>3.0</td>\n",
       "      <td>1.0</td>\n",
       "      <td>1.0</td>\n",
       "      <td>1.0</td>\n",
       "      <td>100.0</td>\n",
       "    </tr>\n",
       "    <tr>\n",
       "      <th>4000</th>\n",
       "      <td>1</td>\n",
       "      <td>2021-2022</td>\n",
       "      <td>Harvard University</td>\n",
       "      <td>USA</td>\n",
       "      <td>1</td>\n",
       "      <td>1.0</td>\n",
       "      <td>1.0</td>\n",
       "      <td>1.0</td>\n",
       "      <td>1.0</td>\n",
       "      <td>100.0</td>\n",
       "    </tr>\n",
       "  </tbody>\n",
       "</table>\n",
       "</div>"
      ],
      "text/plain": [
       "      World Rank       Year         Institution Country  National Rank  \\\n",
       "0              1  2019-2020  Harvard University     USA              1   \n",
       "2000           1  2020-2021  Harvard University     USA              1   \n",
       "4000           1  2021-2022  Harvard University     USA              1   \n",
       "\n",
       "      Quality of Education Rank  Alumni Employment Rank  \\\n",
       "0                           2.0                     1.0   \n",
       "2000                        3.0                     1.0   \n",
       "4000                        1.0                     1.0   \n",
       "\n",
       "      Quality of Faculty Rank  Research Performance Rank  Score  \n",
       "0                         1.0                        1.0  100.0  \n",
       "2000                      1.0                        1.0  100.0  \n",
       "4000                      1.0                        1.0  100.0  "
      ]
     },
     "execution_count": 9,
     "metadata": {},
     "output_type": "execute_result"
    }
   ],
   "source": [
    "#Q2: Generate a pandas DataFrame containing all the statistics of the highest-ranked institution based on \n",
    "# \"World Rank\" (Note: highest rank is 1).\n",
    "rankings[rankings[\"World Rank\"] == 1]"
   ]
  },
  {
   "cell_type": "code",
   "execution_count": 10,
   "id": "fedb87db",
   "metadata": {},
   "outputs": [
    {
     "data": {
      "text/html": [
       "<div>\n",
       "<style scoped>\n",
       "    .dataframe tbody tr th:only-of-type {\n",
       "        vertical-align: middle;\n",
       "    }\n",
       "\n",
       "    .dataframe tbody tr th {\n",
       "        vertical-align: top;\n",
       "    }\n",
       "\n",
       "    .dataframe thead th {\n",
       "        text-align: right;\n",
       "    }\n",
       "</style>\n",
       "<table border=\"1\" class=\"dataframe\">\n",
       "  <thead>\n",
       "    <tr style=\"text-align: right;\">\n",
       "      <th></th>\n",
       "      <th>World Rank</th>\n",
       "      <th>Year</th>\n",
       "      <th>Institution</th>\n",
       "      <th>Country</th>\n",
       "      <th>National Rank</th>\n",
       "      <th>Quality of Education Rank</th>\n",
       "      <th>Alumni Employment Rank</th>\n",
       "      <th>Quality of Faculty Rank</th>\n",
       "      <th>Research Performance Rank</th>\n",
       "      <th>Score</th>\n",
       "    </tr>\n",
       "  </thead>\n",
       "  <tbody>\n",
       "    <tr>\n",
       "      <th>24</th>\n",
       "      <td>25</td>\n",
       "      <td>2019-2020</td>\n",
       "      <td>University of Wisconsin–Madison</td>\n",
       "      <td>USA</td>\n",
       "      <td>19</td>\n",
       "      <td>28.0</td>\n",
       "      <td>80.0</td>\n",
       "      <td>35.0</td>\n",
       "      <td>27.0</td>\n",
       "      <td>87.3</td>\n",
       "    </tr>\n",
       "    <tr>\n",
       "      <th>2025</th>\n",
       "      <td>26</td>\n",
       "      <td>2020-2021</td>\n",
       "      <td>University of Wisconsin–Madison</td>\n",
       "      <td>USA</td>\n",
       "      <td>20</td>\n",
       "      <td>34.0</td>\n",
       "      <td>93.0</td>\n",
       "      <td>34.0</td>\n",
       "      <td>31.0</td>\n",
       "      <td>87.2</td>\n",
       "    </tr>\n",
       "    <tr>\n",
       "      <th>4024</th>\n",
       "      <td>25</td>\n",
       "      <td>2021-2022</td>\n",
       "      <td>University of Wisconsin–Madison</td>\n",
       "      <td>USA</td>\n",
       "      <td>19</td>\n",
       "      <td>33.0</td>\n",
       "      <td>97.0</td>\n",
       "      <td>29.0</td>\n",
       "      <td>32.0</td>\n",
       "      <td>87.3</td>\n",
       "    </tr>\n",
       "  </tbody>\n",
       "</table>\n",
       "</div>"
      ],
      "text/plain": [
       "      World Rank       Year                      Institution Country  \\\n",
       "24            25  2019-2020  University of Wisconsin–Madison     USA   \n",
       "2025          26  2020-2021  University of Wisconsin–Madison     USA   \n",
       "4024          25  2021-2022  University of Wisconsin–Madison     USA   \n",
       "\n",
       "      National Rank  Quality of Education Rank  Alumni Employment Rank  \\\n",
       "24               19                       28.0                    80.0   \n",
       "2025             20                       34.0                    93.0   \n",
       "4024             19                       33.0                    97.0   \n",
       "\n",
       "      Quality of Faculty Rank  Research Performance Rank  Score  \n",
       "24                       35.0                       27.0   87.3  \n",
       "2025                     34.0                       31.0   87.2  \n",
       "4024                     29.0                       32.0   87.3  "
      ]
     },
     "execution_count": 10,
     "metadata": {},
     "output_type": "execute_result"
    }
   ],
   "source": [
    "#Q3: Generate a pandas DataFrame containing all the statistics of \"University of Wisconsin–Madison\".\n",
    "uw_madison = rankings[rankings[\"Institution\"] == \"University of Wisconsin–Madison\"]\n",
    "uw_madison"
   ]
  },
  {
   "cell_type": "code",
   "execution_count": 11,
   "id": "41e9db58",
   "metadata": {},
   "outputs": [
    {
     "data": {
      "text/plain": [
       "19"
      ]
     },
     "execution_count": 11,
     "metadata": {},
     "output_type": "execute_result"
    }
   ],
   "source": [
    "#Q4: What is the \"National Rank\" of the \"University of Wisconsin–Madison\" in the year 2021-2022?\n",
    "uw_madison[uw_madison[\"Year\"] == \"2021-2022\"][\"National Rank\"].iloc[0]"
   ]
  },
  {
   "cell_type": "code",
   "execution_count": 12,
   "id": "9c383fd9",
   "metadata": {},
   "outputs": [
    {
     "data": {
      "text/plain": [
       "87.26666666666667"
      ]
     },
     "execution_count": 12,
     "metadata": {},
     "output_type": "execute_result"
    }
   ],
   "source": [
    "#Q5: What is the average score of the \"University of Wisconsin–Madison\"?\n",
    "uw_madison[\"Score\"].mean()"
   ]
  },
  {
   "cell_type": "code",
   "execution_count": 13,
   "id": "89e90eaa",
   "metadata": {},
   "outputs": [
    {
     "data": {
      "text/html": [
       "<div>\n",
       "<style scoped>\n",
       "    .dataframe tbody tr th:only-of-type {\n",
       "        vertical-align: middle;\n",
       "    }\n",
       "\n",
       "    .dataframe tbody tr th {\n",
       "        vertical-align: top;\n",
       "    }\n",
       "\n",
       "    .dataframe thead th {\n",
       "        text-align: right;\n",
       "    }\n",
       "</style>\n",
       "<table border=\"1\" class=\"dataframe\">\n",
       "  <thead>\n",
       "    <tr style=\"text-align: right;\">\n",
       "      <th></th>\n",
       "      <th>World Rank</th>\n",
       "      <th>Year</th>\n",
       "      <th>Institution</th>\n",
       "      <th>Country</th>\n",
       "      <th>National Rank</th>\n",
       "      <th>Quality of Education Rank</th>\n",
       "      <th>Alumni Employment Rank</th>\n",
       "      <th>Quality of Faculty Rank</th>\n",
       "      <th>Research Performance Rank</th>\n",
       "      <th>Score</th>\n",
       "    </tr>\n",
       "  </thead>\n",
       "  <tbody>\n",
       "    <tr>\n",
       "      <th>2094</th>\n",
       "      <td>95</td>\n",
       "      <td>2020-2021</td>\n",
       "      <td>National University of Singapore</td>\n",
       "      <td>Singapore</td>\n",
       "      <td>1</td>\n",
       "      <td>330.0</td>\n",
       "      <td>165.0</td>\n",
       "      <td>NaN</td>\n",
       "      <td>41.0</td>\n",
       "      <td>82.0</td>\n",
       "    </tr>\n",
       "    <tr>\n",
       "      <th>2139</th>\n",
       "      <td>140</td>\n",
       "      <td>2020-2021</td>\n",
       "      <td>Nanyang Technological University</td>\n",
       "      <td>Singapore</td>\n",
       "      <td>2</td>\n",
       "      <td>NaN</td>\n",
       "      <td>996.0</td>\n",
       "      <td>NaN</td>\n",
       "      <td>75.0</td>\n",
       "      <td>80.3</td>\n",
       "    </tr>\n",
       "    <tr>\n",
       "      <th>3150</th>\n",
       "      <td>1151</td>\n",
       "      <td>2020-2021</td>\n",
       "      <td>Singapore University of Technology and Design</td>\n",
       "      <td>Singapore</td>\n",
       "      <td>3</td>\n",
       "      <td>NaN</td>\n",
       "      <td>NaN</td>\n",
       "      <td>NaN</td>\n",
       "      <td>1092.0</td>\n",
       "      <td>69.4</td>\n",
       "    </tr>\n",
       "    <tr>\n",
       "      <th>3286</th>\n",
       "      <td>1287</td>\n",
       "      <td>2020-2021</td>\n",
       "      <td>Singapore Management University</td>\n",
       "      <td>Singapore</td>\n",
       "      <td>4</td>\n",
       "      <td>NaN</td>\n",
       "      <td>NaN</td>\n",
       "      <td>NaN</td>\n",
       "      <td>1225.0</td>\n",
       "      <td>68.7</td>\n",
       "    </tr>\n",
       "  </tbody>\n",
       "</table>\n",
       "</div>"
      ],
      "text/plain": [
       "      World Rank       Year                                    Institution  \\\n",
       "2094          95  2020-2021               National University of Singapore   \n",
       "2139         140  2020-2021               Nanyang Technological University   \n",
       "3150        1151  2020-2021  Singapore University of Technology and Design   \n",
       "3286        1287  2020-2021                Singapore Management University   \n",
       "\n",
       "        Country  National Rank  Quality of Education Rank  \\\n",
       "2094  Singapore              1                      330.0   \n",
       "2139  Singapore              2                        NaN   \n",
       "3150  Singapore              3                        NaN   \n",
       "3286  Singapore              4                        NaN   \n",
       "\n",
       "      Alumni Employment Rank  Quality of Faculty Rank  \\\n",
       "2094                   165.0                      NaN   \n",
       "2139                   996.0                      NaN   \n",
       "3150                     NaN                      NaN   \n",
       "3286                     NaN                      NaN   \n",
       "\n",
       "      Research Performance Rank  Score  \n",
       "2094                       41.0   82.0  \n",
       "2139                       75.0   80.3  \n",
       "3150                     1092.0   69.4  \n",
       "3286                     1225.0   68.7  "
      ]
     },
     "execution_count": 13,
     "metadata": {},
     "output_type": "execute_result"
    }
   ],
   "source": [
    "#Q6: Generate a pandas dataframe containing all the statistics of universities from Singapore in the year \n",
    "#2020-2021.\n",
    "rankings[(rankings[\"Country\"] == \"Singapore\") & (rankings[\"Year\"] == \"2020-2021\")]"
   ]
  },
  {
   "cell_type": "code",
   "execution_count": 14,
   "id": "75effa1c",
   "metadata": {},
   "outputs": [
    {
     "data": {
      "text/plain": [
       "'Ludwig Maximilian University of Munich'"
      ]
     },
     "execution_count": 14,
     "metadata": {},
     "output_type": "execute_result"
    }
   ],
   "source": [
    "#Q7: In the year 2019-2020, what was the highest-ranked institution in Germany?\n",
    "german_ = rankings[(rankings[\"Year\"] == \"2019-2020\") & (rankings[\"Country\"] == \"Germany\")]\n",
    "german_best = german_[german_[\"National Rank\"] == 1].iloc[0]\n",
    "german_best[\"Institution\"]"
   ]
  },
  {
   "cell_type": "code",
   "execution_count": 15,
   "id": "9872d27a",
   "metadata": {},
   "outputs": [
    {
     "data": {
      "text/plain": [
       "['University of Washington - Seattle',\n",
       " 'Massachusetts Institute of Technology',\n",
       " 'University of California San Diego',\n",
       " 'Pennsylvania State University',\n",
       " 'University of California, Los Angeles',\n",
       " 'Princeton University',\n",
       " 'University of California, Davis',\n",
       " 'Washington University in St. Louis',\n",
       " 'Dartmouth College',\n",
       " 'University of Southern California',\n",
       " 'Columbia University',\n",
       " 'University of Texas at Austin',\n",
       " 'Cornell University',\n",
       " 'University of California, Berkeley',\n",
       " 'University of Pennsylvania',\n",
       " 'Northwestern University',\n",
       " 'University of Chicago',\n",
       " 'New York University',\n",
       " 'Rutgers University–New Brunswick',\n",
       " 'Harvard University',\n",
       " 'California Institute of Technology',\n",
       " 'Yale University',\n",
       " 'University of Wisconsin–Madison',\n",
       " 'University of California, San Francisco',\n",
       " 'Duke University',\n",
       " 'Stanford University',\n",
       " 'Johns Hopkins University',\n",
       " 'University of Michigan, Ann Arbor',\n",
       " 'University of Illinois at Urbana–Champaign',\n",
       " 'Brown University',\n",
       " 'Vanderbilt University',\n",
       " 'University of Texas Southwestern Medical Center',\n",
       " 'University of North Carolina at Chapel Hill',\n",
       " 'University of Minnesota - Twin Cities']"
      ]
     },
     "execution_count": 15,
     "metadata": {},
     "output_type": "execute_result"
    }
   ],
   "source": [
    "#Q8: In the year 2019-2020, list all the institutions in the USA ranked better than the \n",
    "# highest-ranked institution in Germany.\n",
    "usa_ = rankings[(rankings[\"Country\"] == \"USA\") & (rankings[\"Year\"] == \"2019-2020\")]\n",
    "list(set(usa_[usa_[\"World Rank\"] < german_best[\"World Rank\"]][\"Institution\"]))"
   ]
  },
  {
   "cell_type": "code",
   "execution_count": 16,
   "id": "991d0a86",
   "metadata": {},
   "outputs": [
    {
     "data": {
      "text/plain": [
       "'Fudan University'"
      ]
     },
     "execution_count": 16,
     "metadata": {},
     "output_type": "execute_result"
    }
   ],
   "source": [
    "#Q9: What is the highest-ranked institution based on “Quality of Education Rank” in China for the \n",
    "# year 2021-2022?\n",
    "\n",
    "china_ = rankings[rankings[\"Country\"] == \"China\"]\n",
    "min_val = china_[\"Quality of Education Rank\"].min()\n",
    "china_[china_[\"Quality of Education Rank\"] == min_val].iloc[0][\"Institution\"]"
   ]
  },
  {
   "cell_type": "code",
   "execution_count": 17,
   "id": "ade43b24",
   "metadata": {},
   "outputs": [
    {
     "data": {
      "text/plain": [
       "['Indian Institute of Science',\n",
       " 'Tata Institute of Fundamental Research',\n",
       " 'Indian Institute of Technology Bombay',\n",
       " 'University of Delhi',\n",
       " 'Indian Institute of Technology Madras']"
      ]
     },
     "execution_count": 17,
     "metadata": {},
     "output_type": "execute_result"
    }
   ],
   "source": [
    "#Q10: What are the top five highest-ranked institutions based on \"Research Performance Rank\" in India for \n",
    "# the year 2020-2021?\n",
    "india_ = rankings[(rankings[\"Country\"] == \"India\") & (rankings[\"Year\"] == \"2020-2021\")]\n",
    "df_sorted = india_[[\"Institution\", \"Research Performance Rank\"]].sort_values(by=\"Research Performance Rank\")\n",
    "list(df_sorted.iloc[0:5][\"Institution\"])"
   ]
  },
  {
   "cell_type": "code",
   "execution_count": 18,
   "id": "85a853e8",
   "metadata": {},
   "outputs": [
    {
     "data": {
      "text/plain": [
       "1856"
      ]
     },
     "execution_count": 18,
     "metadata": {},
     "output_type": "execute_result"
    }
   ],
   "source": [
    "#Q11: How many institutions have rankings for all three years?\n",
    "year_2019_ranking_df = rankings[rankings[\"Year\"] == \"2019-2020\"]\n",
    "set1 = set(year_2019_ranking_df[\"Institution\"])\n",
    "year_2020_ranking_df = rankings[rankings[\"Year\"] == \"2020-2021\"]\n",
    "set2 = set(year_2020_ranking_df[\"Institution\"])\n",
    "year_2021_ranking_df = rankings[rankings[\"Year\"] == \"2021-2022\"]\n",
    "set3 = set(year_2021_ranking_df[\"Institution\"])\n",
    "\n",
    "\n",
    "# list containing names of institutions which have ranking for all three years\n",
    "institution_2019_2020_2021 = list(set.intersection(set1, set2, set3))\n",
    "len(institution_2019_2020_2021)"
   ]
  },
  {
   "cell_type": "code",
   "execution_count": 19,
   "id": "99315aa3",
   "metadata": {},
   "outputs": [],
   "source": [
    "institutions = []\n",
    "\n",
    "for institution in institution_2019_2020_2021: # use your output list from Q11 here\n",
    "    year_2019_ranking =  year_2019_ranking_df[year_2019_ranking_df[\"Institution\"] == institution][\"World Rank\"]\n",
    "    year_2020_ranking =  year_2020_ranking_df[year_2020_ranking_df[\"Institution\"] == institution][\"World Rank\"]\n",
    "    year_2021_ranking =  year_2021_ranking_df[year_2021_ranking_df[\"Institution\"] == institution][\"World Rank\"]\n",
    "\n",
    "    # now let's create a dictionary representation of the institution\n",
    "    # each key corresponds to the column of the DataFrame we want to build\n",
    "    institution_info = {}\n",
    "    institution_info['Institution'] = institution\n",
    "    institution_info['2019_ranking'] = year_2019_ranking.iloc[0]\n",
    "    institution_info['2020_ranking'] = year_2020_ranking.iloc[0]\n",
    "    institution_info['2021_ranking'] = year_2021_ranking.iloc[0]\n",
    "\n",
    "    institutions.append(institution_info)\n",
    "\n",
    "institutions_df = pd.DataFrame(institutions)"
   ]
  },
  {
   "cell_type": "code",
   "execution_count": 20,
   "id": "b7e25ba2",
   "metadata": {},
   "outputs": [
    {
     "data": {
      "text/html": [
       "<div>\n",
       "<style scoped>\n",
       "    .dataframe tbody tr th:only-of-type {\n",
       "        vertical-align: middle;\n",
       "    }\n",
       "\n",
       "    .dataframe tbody tr th {\n",
       "        vertical-align: top;\n",
       "    }\n",
       "\n",
       "    .dataframe thead th {\n",
       "        text-align: right;\n",
       "    }\n",
       "</style>\n",
       "<table border=\"1\" class=\"dataframe\">\n",
       "  <thead>\n",
       "    <tr style=\"text-align: right;\">\n",
       "      <th></th>\n",
       "      <th>Institution</th>\n",
       "      <th>2019_ranking</th>\n",
       "      <th>2020_ranking</th>\n",
       "      <th>2021_ranking</th>\n",
       "    </tr>\n",
       "  </thead>\n",
       "  <tbody>\n",
       "    <tr>\n",
       "      <th>0</th>\n",
       "      <td>Oakland University</td>\n",
       "      <td>1174</td>\n",
       "      <td>1176</td>\n",
       "      <td>1192</td>\n",
       "    </tr>\n",
       "    <tr>\n",
       "      <th>1</th>\n",
       "      <td>California State University, Northridge</td>\n",
       "      <td>1271</td>\n",
       "      <td>1290</td>\n",
       "      <td>1294</td>\n",
       "    </tr>\n",
       "    <tr>\n",
       "      <th>2</th>\n",
       "      <td>Erciyes University</td>\n",
       "      <td>1102</td>\n",
       "      <td>1155</td>\n",
       "      <td>1196</td>\n",
       "    </tr>\n",
       "    <tr>\n",
       "      <th>3</th>\n",
       "      <td>USI - University of Italian Speaking Switzerland</td>\n",
       "      <td>1884</td>\n",
       "      <td>803</td>\n",
       "      <td>531</td>\n",
       "    </tr>\n",
       "    <tr>\n",
       "      <th>4</th>\n",
       "      <td>University of Otago</td>\n",
       "      <td>333</td>\n",
       "      <td>341</td>\n",
       "      <td>351</td>\n",
       "    </tr>\n",
       "    <tr>\n",
       "      <th>...</th>\n",
       "      <td>...</td>\n",
       "      <td>...</td>\n",
       "      <td>...</td>\n",
       "      <td>...</td>\n",
       "    </tr>\n",
       "    <tr>\n",
       "      <th>1851</th>\n",
       "      <td>Peoples' Friendship University of Russia</td>\n",
       "      <td>1829</td>\n",
       "      <td>1671</td>\n",
       "      <td>1635</td>\n",
       "    </tr>\n",
       "    <tr>\n",
       "      <th>1852</th>\n",
       "      <td>Pomona College</td>\n",
       "      <td>1054</td>\n",
       "      <td>1251</td>\n",
       "      <td>959</td>\n",
       "    </tr>\n",
       "    <tr>\n",
       "      <th>1853</th>\n",
       "      <td>Lancaster University</td>\n",
       "      <td>347</td>\n",
       "      <td>348</td>\n",
       "      <td>345</td>\n",
       "    </tr>\n",
       "    <tr>\n",
       "      <th>1854</th>\n",
       "      <td>Istanbul Technical University</td>\n",
       "      <td>702</td>\n",
       "      <td>678</td>\n",
       "      <td>682</td>\n",
       "    </tr>\n",
       "    <tr>\n",
       "      <th>1855</th>\n",
       "      <td>National University of the Littoral</td>\n",
       "      <td>1450</td>\n",
       "      <td>1497</td>\n",
       "      <td>1492</td>\n",
       "    </tr>\n",
       "  </tbody>\n",
       "</table>\n",
       "<p>1856 rows × 4 columns</p>\n",
       "</div>"
      ],
      "text/plain": [
       "                                           Institution  2019_ranking  \\\n",
       "0                                   Oakland University          1174   \n",
       "1              California State University, Northridge          1271   \n",
       "2                                   Erciyes University          1102   \n",
       "3     USI - University of Italian Speaking Switzerland          1884   \n",
       "4                                  University of Otago           333   \n",
       "...                                                ...           ...   \n",
       "1851          Peoples' Friendship University of Russia          1829   \n",
       "1852                                    Pomona College          1054   \n",
       "1853                              Lancaster University           347   \n",
       "1854                     Istanbul Technical University           702   \n",
       "1855               National University of the Littoral          1450   \n",
       "\n",
       "      2020_ranking  2021_ranking  \n",
       "0             1176          1192  \n",
       "1             1290          1294  \n",
       "2             1155          1196  \n",
       "3              803           531  \n",
       "4              341           351  \n",
       "...            ...           ...  \n",
       "1851          1671          1635  \n",
       "1852          1251           959  \n",
       "1853           348           345  \n",
       "1854           678           682  \n",
       "1855          1497          1492  \n",
       "\n",
       "[1856 rows x 4 columns]"
      ]
     },
     "execution_count": 20,
     "metadata": {},
     "output_type": "execute_result"
    }
   ],
   "source": [
    "institutions_df"
   ]
  },
  {
   "cell_type": "code",
   "execution_count": 22,
   "id": "5c0d0116",
   "metadata": {},
   "outputs": [
    {
     "data": {
      "text/plain": [
       "['USI - University of Italian Speaking Switzerland',\n",
       " 'Antioch College',\n",
       " 'International Institute for Management Development',\n",
       " 'Academy of Scientific & Innovative Research',\n",
       " 'SOAS University of London',\n",
       " 'Federal University of Mato Grosso do Sul',\n",
       " 'Haverford College',\n",
       " 'Tôn Đức Thắng University',\n",
       " 'École nationale supérieure de chimie de Montpellier']"
      ]
     },
     "execution_count": 22,
     "metadata": {},
     "output_type": "execute_result"
    }
   ],
   "source": [
    "#Q12: Between the years 2019-2020 and 2021-2022, list the institutions which have seen an improvement \n",
    "# in their \"World Rank\" by more than 500 ranks.\n",
    "institutions_df[\"Diff\"] = institutions_df['2019_ranking'] - institutions_df['2021_ranking']\n",
    "list(institutions_df[institutions_df[\"Diff\"] > 500][\"Institution\"])"
   ]
  },
  {
   "cell_type": "code",
   "execution_count": 23,
   "id": "80cf1ca6",
   "metadata": {},
   "outputs": [
    {
     "data": {
      "text/plain": [
       "'USI - University of Italian Speaking Switzerland'"
      ]
     },
     "execution_count": 23,
     "metadata": {},
     "output_type": "execute_result"
    }
   ],
   "source": [
    "#Q13: Between the years 2019-2020 and 2021-2022, which institution had the largest change in its \"World Rank\"?\n",
    "institutions_df[abs(institutions_df[\"Diff\"]) == abs(institutions_df[\"Diff\"]).max()][\"Institution\"].iloc[0]"
   ]
  },
  {
   "cell_type": "code",
   "execution_count": 24,
   "id": "e1c96582",
   "metadata": {},
   "outputs": [
    {
     "data": {
      "text/plain": [
       "451"
      ]
     },
     "execution_count": 24,
     "metadata": {},
     "output_type": "execute_result"
    }
   ],
   "source": [
    "#Q14: For all the three years, find the number of institutions that improved their World Rank each year.\n",
    "institutions_df[\"Diff1\"] = institutions_df['2019_ranking'] - institutions_df['2020_ranking']\n",
    "institutions_df[\"Diff2\"] = institutions_df['2020_ranking'] - institutions_df['2021_ranking']\n",
    "\n",
    "len(list(institutions_df[(institutions_df[\"Diff1\"] > 0) & (institutions_df[\"Diff2\"] > 0)][\"Institution\"]))"
   ]
  },
  {
   "cell_type": "code",
   "execution_count": 25,
   "id": "1bf2da34",
   "metadata": {},
   "outputs": [
    {
     "data": {
      "text/plain": [
       "['Institut Polytechnique de Paris',\n",
       " 'University of Tokyo',\n",
       " 'INSEAD',\n",
       " 'HEC Paris',\n",
       " \"École nationale d'administration\",\n",
       " 'China Europe International Business School',\n",
       " 'International Institute for Management Development']"
      ]
     },
     "execution_count": 25,
     "metadata": {},
     "output_type": "execute_result"
    }
   ],
   "source": [
    "#Q15: In the year 2020-2021, list the institutions which are within the top 10 in the world based on \n",
    "# \"Alumni Employment Rank\" but do not feature in the top 10 of the world ranking.\n",
    "best_alumni = year_2020_ranking_df.sort_values(by=\"Alumni Employment Rank\")[\"Institution\"].iloc[0:10]\n",
    "best_world = year_2020_ranking_df[\"Institution\"].iloc[0:10]\n",
    "list(set(best_alumni) - set(best_world))\n",
    "\n",
    "# As it says in the requirements to use the year_2020_ranking_df, there's no need top check for the year again"
   ]
  },
  {
   "cell_type": "code",
   "execution_count": 26,
   "id": "3ade6c22",
   "metadata": {},
   "outputs": [
    {
     "data": {
      "text/plain": [
       "['University of Texas MD Anderson Cancer Center',\n",
       " 'École Polytechnique Fédérale de Lausanne',\n",
       " 'École normale supérieure',\n",
       " 'University of California San Diego',\n",
       " 'Aarhus University',\n",
       " 'Emory University',\n",
       " 'Paris-Sud University',\n",
       " 'Tufts University',\n",
       " 'University of Utah',\n",
       " 'Paris Diderot University',\n",
       " 'École Polytechnique',\n",
       " 'University of Groningen']"
      ]
     },
     "execution_count": 26,
     "metadata": {},
     "output_type": "execute_result"
    }
   ],
   "source": [
    "#Q16: List the universities which ranked in the top 100 of world rankings in the year 2019-2020 but failed to \n",
    "# do so in the rankings of year 2021-2022.\n",
    "best_2019 = year_2019_ranking_df[\"Institution\"].iloc[0:100]\n",
    "best_2021 = year_2021_ranking_df[\"Institution\"].iloc[0:100]\n",
    "list(set(best_2019) - set(best_2021))"
   ]
  },
  {
   "cell_type": "code",
   "execution_count": 27,
   "id": "0fee9b5d",
   "metadata": {},
   "outputs": [
    {
     "data": {
      "text/plain": [
       "['USA', 'United Kingdom']"
      ]
     },
     "execution_count": 27,
     "metadata": {},
     "output_type": "execute_result"
    }
   ],
   "source": [
    "#Q17: List the countries which have at least 10 institutions featuring in the top 100 of world rankings \n",
    "# in the year 2020-2021.\n",
    "best_2020 = year_2020_ranking_df.iloc[0:100][\"Country\"]\n",
    "df = pd.DataFrame(best_2020.value_counts()) \n",
    "list(df[df[\"Country\"] >= 10].index)"
   ]
  },
  {
   "cell_type": "code",
   "execution_count": 28,
   "id": "4629a731",
   "metadata": {},
   "outputs": [
    {
     "data": {
      "text/plain": [
       "['World Rank',\n",
       " 'Institution',\n",
       " 'Country',\n",
       " 'National Rank',\n",
       " 'Quality of Education Rank',\n",
       " 'Alumni Employment Rank',\n",
       " 'Quality of Faculty Rank',\n",
       " 'Research Performance Rank',\n",
       " 'Score']"
      ]
     },
     "execution_count": 28,
     "metadata": {},
     "output_type": "execute_result"
    }
   ],
   "source": [
    "#Q18: Use BeautifulSoup to parse 2019-2020.html, and find the table containing the ranking data. What are the \n",
    "# column names of this table?\n",
    "f = open(\"2019-2020.html\", \"r\")\n",
    "obj = BeautifulSoup(f, \"html.parser\")\n",
    "table = obj.find(\"table\")\n",
    "header = table.find_all(\"th\")\n",
    "header = [h.get_text() for h in header]\n",
    "header"
   ]
  },
  {
   "cell_type": "code",
   "execution_count": 29,
   "id": "e3e4ed9f",
   "metadata": {},
   "outputs": [],
   "source": [
    "def parse_html(filename):\n",
    "    '''This function parses an HTML file and returns a list of dictionaries containing the tabular data'''\n",
    "\n",
    "    # Open and get the text contents of file\n",
    "    html_data = None\n",
    "    with open(filename) as f:\n",
    "        html_data = f.read()\n",
    "    f.close()\n",
    "\n",
    "    # Construct Beautiful Soup Object\n",
    "    html_obj = BeautifulSoup(html_data, \"html.parser\")\n",
    "\n",
    "    year = filename[0:9]\n",
    "\n",
    "    # Parse header\n",
    "    header = [item.text for item in html_obj.find_all(\"th\")]\n",
    "    # Extract Rows\n",
    "    rows_html = html_obj.find_all(\"tr\")[1:]\n",
    "\n",
    "    # Lists for proper type casting\n",
    "    int_convert = [\"World Rank\", \"National Rank\", \"Quality of Education Rank\", \"Alumni Employment Rank\", \"Quality of Faculty Rank\", \"Research Performance Rank\"]\n",
    "    float_convert = [\"Score\"]\n",
    "\n",
    "    # List of dictionaries; one dictionary for each row\n",
    "    rows = list()\n",
    "\n",
    "    for row in rows_html:\n",
    "        row_dict = dict()\n",
    "        row_dict[\"Year\"] = year\n",
    "        for item in row:\n",
    "            item_idx = row.index(item)\n",
    "            h = header[item_idx]\n",
    "\n",
    "            if h in int_convert and item.text.isdigit():\n",
    "                row_dict[h] = int(item.text)\n",
    "            elif h in float_convert:\n",
    "                try:\n",
    "                    row_dict[h] = float(item.text)\n",
    "                except ValueError:\n",
    "                    row_dict[h] = None\n",
    "            else:\n",
    "                if item.text == \"-\":\n",
    "                    row_dict[h] = None\n",
    "                else:\n",
    "                    row_dict[h] = item.text\n",
    "\n",
    "        rows.append(row_dict)\n",
    "\n",
    "    return rows"
   ]
  },
  {
   "cell_type": "code",
   "execution_count": 30,
   "id": "21869c55",
   "metadata": {},
   "outputs": [
    {
     "data": {
      "text/plain": [
       "[{'Year': '2019-2020',\n",
       "  'World Rank': 1,\n",
       "  'Institution': 'Harvard University',\n",
       "  'Country': 'USA',\n",
       "  'National Rank': 1,\n",
       "  'Quality of Education Rank': 2,\n",
       "  'Alumni Employment Rank': 1,\n",
       "  'Quality of Faculty Rank': 1,\n",
       "  'Research Performance Rank': 1,\n",
       "  'Score': 100.0},\n",
       " {'Year': '2019-2020',\n",
       "  'World Rank': 2,\n",
       "  'Institution': 'Massachusetts Institute of Technology',\n",
       "  'Country': 'USA',\n",
       "  'National Rank': 2,\n",
       "  'Quality of Education Rank': 1,\n",
       "  'Alumni Employment Rank': 10,\n",
       "  'Quality of Faculty Rank': 2,\n",
       "  'Research Performance Rank': 5,\n",
       "  'Score': 96.7},\n",
       " {'Year': '2019-2020',\n",
       "  'World Rank': 3,\n",
       "  'Institution': 'Stanford University',\n",
       "  'Country': 'USA',\n",
       "  'National Rank': 3,\n",
       "  'Quality of Education Rank': 9,\n",
       "  'Alumni Employment Rank': 3,\n",
       "  'Quality of Faculty Rank': 3,\n",
       "  'Research Performance Rank': 2,\n",
       "  'Score': 95.2},\n",
       " {'Year': '2019-2020',\n",
       "  'World Rank': 4,\n",
       "  'Institution': 'University of Cambridge',\n",
       "  'Country': 'United Kingdom',\n",
       "  'National Rank': 1,\n",
       "  'Quality of Education Rank': 4,\n",
       "  'Alumni Employment Rank': 19,\n",
       "  'Quality of Faculty Rank': 5,\n",
       "  'Research Performance Rank': 11,\n",
       "  'Score': 94.1},\n",
       " {'Year': '2019-2020',\n",
       "  'World Rank': 5,\n",
       "  'Institution': 'University of Oxford',\n",
       "  'Country': 'United Kingdom',\n",
       "  'National Rank': 2,\n",
       "  'Quality of Education Rank': 10,\n",
       "  'Alumni Employment Rank': 24,\n",
       "  'Quality of Faculty Rank': 10,\n",
       "  'Research Performance Rank': 4,\n",
       "  'Score': 93.3}]"
      ]
     },
     "execution_count": 30,
     "metadata": {},
     "output_type": "execute_result"
    }
   ],
   "source": [
    "#Q19: Parse the contents of the table you found in 2019-2020.html and represent it as a list of dicts. \n",
    "# What are the first 5 dictionaries in the list?\n",
    "parse_html(\"2019-2020.html\")[0:5]"
   ]
  },
  {
   "cell_type": "code",
   "execution_count": 31,
   "id": "a7255e22",
   "metadata": {},
   "outputs": [],
   "source": [
    "def write_json(path, data):\n",
    "    with open(path, 'w', encoding=\"utf-8\") as f:\n",
    "        json.dump(data, f, indent=2)"
   ]
  },
  {
   "cell_type": "code",
   "execution_count": 32,
   "id": "0fa00e6f",
   "metadata": {},
   "outputs": [],
   "source": [
    "#Q20: Parse the contents of 2019-2020.html, 2020-2021.html, and 2021-2022.html and combine them to create a \n",
    "# file titled my_rankings.json.\n",
    "y_2019 = parse_html(\"2019-2020.html\")\n",
    "y_2020 = parse_html(\"2020-2021.html\")\n",
    "y_2021 = parse_html(\"2021-2022.html\")\n",
    "\n",
    "y_2019.extend(y_2020)\n",
    "y_2019.extend(y_2021)\n",
    "\n",
    "write_json(\"my_rankings.json\", y_2019)"
   ]
  },
  {
   "cell_type": "code",
   "execution_count": null,
   "id": "caea537d",
   "metadata": {},
   "outputs": [],
   "source": []
  }
 ],
 "metadata": {
  "kernelspec": {
   "display_name": "base",
   "language": "python",
   "name": "python3"
  },
  "language_info": {
   "codemirror_mode": {
    "name": "ipython",
    "version": 3
   },
   "file_extension": ".py",
   "mimetype": "text/x-python",
   "name": "python",
   "nbconvert_exporter": "python",
   "pygments_lexer": "ipython3",
   "version": "3.9.7"
  },
  "vscode": {
   "interpreter": {
    "hash": "866a7f92c78b2c0641a8d712e0ff64b99adce7e4a9623cd52e96d3b35119ffb3"
   }
  }
 },
 "nbformat": 4,
 "nbformat_minor": 5
}
