{
 "cells": [
  {
   "cell_type": "code",
   "execution_count": 21,
   "id": "9ab33b47",
   "metadata": {},
   "outputs": [],
   "source": [
    "import csv \n",
    "import copy"
   ]
  },
  {
   "cell_type": "code",
   "execution_count": 22,
   "id": "1c9ff910",
   "metadata": {},
   "outputs": [],
   "source": [
    "# project: p8"
   ]
  },
  {
   "cell_type": "code",
   "execution_count": 23,
   "id": "f2800728",
   "metadata": {},
   "outputs": [],
   "source": [
    "def process_csv(filename):\n",
    "    example_file = open(filename, encoding=\"utf-8\")\n",
    "    example_reader = csv.reader(example_file)\n",
    "    example_data = list(example_reader)\n",
    "    example_file.close()\n",
    "    return example_data"
   ]
  },
  {
   "cell_type": "code",
   "execution_count": 24,
   "id": "204038a2",
   "metadata": {},
   "outputs": [],
   "source": [
    "def get_mapping(path):\n",
    "    \"\"\"\n",
    "    Converts mapping csv list of lists data into a dict with keys as IDs and values as names.\n",
    "    \"\"\"\n",
    "\n",
    "    path_csv = process_csv(path)\n",
    "    path_dict = dict()\n",
    "    for row in path_csv:\n",
    "        path_dict[row[0]] = row[1]\n",
    "    return path_dict"
   ]
  },
  {
   "cell_type": "code",
   "execution_count": 25,
   "id": "7669c312",
   "metadata": {},
   "outputs": [
    {
     "data": {
      "text/plain": [
       "{'tt3104988': 'Crazy Rich Asians',\n",
       " 'nm0160840': 'Jon M. Chu',\n",
       " 'nm2090422': 'Constance Wu',\n",
       " 'nm6525901': 'Henry Golding',\n",
       " 'nm0000706': 'Michelle Yeoh',\n",
       " 'nm2110418': 'Gemma Chan',\n",
       " 'nm0523734': 'Lisa Lu',\n",
       " 'tt4846340': 'Hidden Figures',\n",
       " 'nm0577647': 'Theodore Melfi',\n",
       " 'nm0378245': 'Taraji P. Henson',\n",
       " 'nm0818055': 'Octavia Spencer',\n",
       " 'nm1847117': 'Janelle Monáe'}"
      ]
     },
     "execution_count": 25,
     "metadata": {},
     "output_type": "execute_result"
    }
   ],
   "source": [
    "#Q1: What is returned by get_mapping(\"small_mapping.csv\")?\n",
    "small_mapping_dict = get_mapping(\"small_mapping.csv\")\n",
    "small_mapping_dict"
   ]
  },
  {
   "cell_type": "code",
   "execution_count": 26,
   "id": "d21276d0",
   "metadata": {},
   "outputs": [
    {
     "data": {
      "text/plain": [
       "'Henry Golding'"
      ]
     },
     "execution_count": 26,
     "metadata": {},
     "output_type": "execute_result"
    }
   ],
   "source": [
    "#Q2: What is the value associated with the key \"nm6525901\"?\n",
    "small_mapping_dict[\"nm6525901\"]"
   ]
  },
  {
   "cell_type": "code",
   "execution_count": 27,
   "id": "a09b18c5",
   "metadata": {},
   "outputs": [
    {
     "data": {
      "text/plain": [
       "['Jon M. Chu',\n",
       " 'Constance Wu',\n",
       " 'Henry Golding',\n",
       " 'Michelle Yeoh',\n",
       " 'Gemma Chan',\n",
       " 'Lisa Lu',\n",
       " 'Theodore Melfi',\n",
       " 'Taraji P. Henson',\n",
       " 'Octavia Spencer',\n",
       " 'Janelle Monáe']"
      ]
     },
     "execution_count": 27,
     "metadata": {},
     "output_type": "execute_result"
    }
   ],
   "source": [
    "#Q3: What are the values associated with keys that begin with \"nm\"?\n",
    "values = []\n",
    "for row in small_mapping_dict:\n",
    "    if \"nm\" in row:\n",
    "        values.append(small_mapping_dict[row])\n",
    "values    "
   ]
  },
  {
   "cell_type": "code",
   "execution_count": 216,
   "id": "c4beedf9",
   "metadata": {},
   "outputs": [],
   "source": [
    "def get_key_from_last_name(target_lastname):\n",
    "    \"\"\"\n",
    "    Returns a list of keys (ids) of people that have the specified last name (case insensitive match) in your small mapping.\n",
    "    Your code must only consider the keys that begin with \"nm\".\n",
    "    \"\"\"\n",
    "    keys = []\n",
    "    for row in small_mapping_dict:\n",
    "        last_name = small_mapping_dict[row].split(\" \")\n",
    "        if \"nm\" in row and target_lastname.lower() in last_name[-1].lower():\n",
    "            #print(small_mapping_dict[row])\n",
    "            keys.append(row)\n",
    "            \n",
    "    return keys\n",
    "\n",
    "# These are tests. \n",
    "# If your implementation is wrong, they will throw an AssertionError.\n",
    "assert get_key_from_last_name('Spencer') == ['nm0818055']\n",
    "assert get_key_from_last_name('Chan') == ['nm2110418']   \n"
   ]
  },
  {
   "cell_type": "code",
   "execution_count": 217,
   "id": "fe78bc7e",
   "metadata": {},
   "outputs": [
    {
     "data": {
      "text/plain": [
       "['nm0378245']"
      ]
     },
     "execution_count": 217,
     "metadata": {},
     "output_type": "execute_result"
    }
   ],
   "source": [
    "#Q4: Find the keys of the people (keys beginning with \"nm\") whose last name is \"Henson\".\n",
    "get_key_from_last_name(\"Henson\")"
   ]
  },
  {
   "cell_type": "code",
   "execution_count": 30,
   "id": "8e9f823d",
   "metadata": {},
   "outputs": [],
   "source": [
    "def get_raw_movies(path):\n",
    "    \"\"\"\n",
    "    Converts movies csv list of lists data into a dict with keys as column names and values as corresponding type converted values.\n",
    "    \"\"\"\n",
    "\n",
    "    # Load the file and separate the header and data in two variables\n",
    "    path_csv = process_csv(path)\n",
    "    csv_header = path_csv[0]\n",
    "    csv_data = path_csv[1:]\n",
    "    int_list = [\"year\", \"duration\"]\n",
    "    float_list = [\"rating\"]\n",
    "    list_list = [\"genres\", \"actors\", \"directors\"]\n",
    "    \n",
    "    # create the list that is going to hold the dictionaries\n",
    "    path_list = []\n",
    "    \n",
    "    for row in csv_data:\n",
    "        path_dict = dict()\n",
    "        for i in range(len(csv_header)):\n",
    "            if csv_header[i] in int_list:\n",
    "                path_dict[csv_header[i]] = int(row[i])\n",
    "            elif csv_header[i] in float_list:\n",
    "                path_dict[csv_header[i]] = float(row[i])\n",
    "            elif csv_header[i] in list_list:\n",
    "                path_dict[csv_header[i]] = row[i].split(\", \")\n",
    "            else:\n",
    "                path_dict[csv_header[i]] = row[i]\n",
    "            #print(row[i])\n",
    "        #print()\n",
    "        path_list.append(path_dict)\n",
    "        \n",
    "    return path_list\n",
    "\n",
    "assert get_raw_movies(\"small_movies_altered.csv\") == get_raw_movies(\"small_movies.csv\")"
   ]
  },
  {
   "cell_type": "code",
   "execution_count": 31,
   "id": "b904a1b1",
   "metadata": {},
   "outputs": [
    {
     "data": {
      "text/plain": [
       "[{'title': 'tt3104988',\n",
       "  'year': 2018,\n",
       "  'genres': ['Comedy', 'Drama', 'Romance'],\n",
       "  'duration': 120,\n",
       "  'directors': ['nm0160840'],\n",
       "  'actors': ['nm2090422', 'nm6525901', 'nm0000706', 'nm2110418', 'nm0523734'],\n",
       "  'rating': 6.9},\n",
       " {'title': 'tt4846340',\n",
       "  'year': 2016,\n",
       "  'genres': ['Biography', 'Drama', 'History'],\n",
       "  'duration': 127,\n",
       "  'directors': ['nm0577647'],\n",
       "  'actors': ['nm0378245', 'nm0818055', 'nm1847117'],\n",
       "  'rating': 7.8}]"
      ]
     },
     "execution_count": 31,
     "metadata": {},
     "output_type": "execute_result"
    }
   ],
   "source": [
    "#Q5: What does get_raw_movies(\"small_movies.csv\") return?\n",
    "small_movies = get_raw_movies(\"small_movies.csv\")\n",
    "small_movies"
   ]
  },
  {
   "cell_type": "code",
   "execution_count": 32,
   "id": "aabc4142",
   "metadata": {},
   "outputs": [
    {
     "data": {
      "text/plain": [
       "5"
      ]
     },
     "execution_count": 32,
     "metadata": {},
     "output_type": "execute_result"
    }
   ],
   "source": [
    "#Q6: How many actors does the movie at index 0 have?\n",
    "len(small_movies[0][\"actors\"])"
   ]
  },
  {
   "cell_type": "code",
   "execution_count": 33,
   "id": "4d978019",
   "metadata": {},
   "outputs": [
    {
     "data": {
      "text/plain": [
       "'nm2090422'"
      ]
     },
     "execution_count": 33,
     "metadata": {},
     "output_type": "execute_result"
    }
   ],
   "source": [
    "#Q7: What is the ID of the first actor listed for the first movie of the dataset?\n",
    "small_movies[0][\"actors\"][0]"
   ]
  },
  {
   "cell_type": "code",
   "execution_count": 66,
   "id": "6239b16a",
   "metadata": {},
   "outputs": [],
   "source": [
    "def get_movies(movies_path, mapping_path):\n",
    "    \"\"\"\n",
    "    Creates a new movies list of dict data by using the mapping dictionary,\n",
    "    to convert IDs into actual names for title, actors, and directors.\n",
    "    \"\"\"\n",
    "    movies = get_raw_movies(movies_path)\n",
    "    mapping = get_mapping(mapping_path)\n",
    "        \n",
    "    for row in movies:\n",
    "        \n",
    "        if row[\"title\"] in mapping:\n",
    "            row[\"title\"] = mapping[row[\"title\"]]\n",
    "            \n",
    "        director_list = []\n",
    "        for director in row[\"directors\"]:\n",
    "            if director in mapping:\n",
    "                director_list.append(mapping[director])\n",
    "        row[\"directors\"] = director_list\n",
    "        \n",
    "        actor_list = []\n",
    "        for actor in row[\"actors\"]:\n",
    "            if actor in mapping:\n",
    "                actor_list.append(mapping[actor])\n",
    "        row[\"actors\"] = actor_list\n",
    "\n",
    "    return movies"
   ]
  },
  {
   "cell_type": "code",
   "execution_count": 67,
   "id": "9f1e34f6",
   "metadata": {},
   "outputs": [],
   "source": [
    "small_movies_data = get_movies(\"small_movies.csv\", \"small_mapping.csv\")"
   ]
  },
  {
   "cell_type": "code",
   "execution_count": 68,
   "id": "f984a7fc",
   "metadata": {},
   "outputs": [
    {
     "data": {
      "text/plain": [
       "[{'title': 'Crazy Rich Asians',\n",
       "  'year': 2018,\n",
       "  'genres': ['Comedy', 'Drama', 'Romance'],\n",
       "  'duration': 120,\n",
       "  'directors': ['Jon M. Chu'],\n",
       "  'actors': ['Constance Wu',\n",
       "   'Henry Golding',\n",
       "   'Michelle Yeoh',\n",
       "   'Gemma Chan',\n",
       "   'Lisa Lu'],\n",
       "  'rating': 6.9},\n",
       " {'title': 'Hidden Figures',\n",
       "  'year': 2016,\n",
       "  'genres': ['Biography', 'Drama', 'History'],\n",
       "  'duration': 127,\n",
       "  'directors': ['Theodore Melfi'],\n",
       "  'actors': ['Taraji P. Henson', 'Octavia Spencer', 'Janelle Monáe'],\n",
       "  'rating': 7.8}]"
      ]
     },
     "execution_count": 68,
     "metadata": {},
     "output_type": "execute_result"
    }
   ],
   "source": [
    "#Q8: What is small_movies_data? \n",
    "small_movies_data"
   ]
  },
  {
   "cell_type": "code",
   "execution_count": 69,
   "id": "a4477400",
   "metadata": {},
   "outputs": [
    {
     "data": {
      "text/plain": [
       "'Hidden Figures'"
      ]
     },
     "execution_count": 69,
     "metadata": {},
     "output_type": "execute_result"
    }
   ],
   "source": [
    "#Q9: What is title of the second movie in small_movies_data?\n",
    "small_movies_data[1][\"title\"]"
   ]
  },
  {
   "cell_type": "code",
   "execution_count": 70,
   "id": "e4535332",
   "metadata": {},
   "outputs": [
    {
     "data": {
      "text/plain": [
       "['Constance Wu', 'Henry Golding', 'Michelle Yeoh', 'Gemma Chan', 'Lisa Lu']"
      ]
     },
     "execution_count": 70,
     "metadata": {},
     "output_type": "execute_result"
    }
   ],
   "source": [
    "#Q10: Who are all the actors of the first movie in small_movies_data?\n",
    "small_movies_data[0][\"actors\"]"
   ]
  },
  {
   "cell_type": "code",
   "execution_count": 71,
   "id": "af9dc459",
   "metadata": {},
   "outputs": [
    {
     "data": {
      "text/plain": [
       "['Theodore Melfi']"
      ]
     },
     "execution_count": 71,
     "metadata": {},
     "output_type": "execute_result"
    }
   ],
   "source": [
    "#Q11: Who are all the directors of the last movie in small_movies_data?\n",
    "small_movies_data[1][\"directors\"]"
   ]
  },
  {
   "cell_type": "code",
   "execution_count": 144,
   "id": "7e1a5a08",
   "metadata": {},
   "outputs": [
    {
     "data": {
      "text/plain": [
       "33102"
      ]
     },
     "execution_count": 144,
     "metadata": {},
     "output_type": "execute_result"
    }
   ],
   "source": [
    "#Q12: What is the length of movies?\n",
    "movies = get_movies(\"movies.csv\", \"mapping.csv\")\n",
    "len(movies)"
   ]
  },
  {
   "cell_type": "code",
   "execution_count": 145,
   "id": "f120977e",
   "metadata": {},
   "outputs": [
    {
     "data": {
      "text/plain": [
       "[{'title': 'Battle Bots',\n",
       "  'year': 2018,\n",
       "  'genres': ['Action', 'Adventure', 'Sci-Fi'],\n",
       "  'duration': 67,\n",
       "  'directors': ['Mark Polonia'],\n",
       "  'actors': ['Danielle Donahue', 'Jeff Kirkendall', 'Marie DeLorenzo'],\n",
       "  'rating': 1.9},\n",
       " {'title': 'Inescapable',\n",
       "  'year': 2003,\n",
       "  'genres': ['Drama'],\n",
       "  'duration': 82,\n",
       "  'directors': ['Helen Lesnick'],\n",
       "  'actors': ['Natalie Anderson', 'Tanna Frederick', 'Athena Demos'],\n",
       "  'rating': 4.2}]"
      ]
     },
     "execution_count": 145,
     "metadata": {},
     "output_type": "execute_result"
    }
   ],
   "source": [
    "#Q13: What are the contents of the last 2 rows in movies?\n",
    "movies[-2:]"
   ]
  },
  {
   "cell_type": "code",
   "execution_count": 146,
   "id": "c2b20341",
   "metadata": {},
   "outputs": [],
   "source": [
    "def find_specific_movies(movies, keyword):\n",
    "    \"\"\"\n",
    "    Given a list of movie dictionaries and a keyword, returns a list of movies that contain the keyword\n",
    "    in either its title, genre, actors or directors.\n",
    "    \"\"\"\n",
    "    idx = 0\n",
    "    while idx < len(movies):\n",
    "        movie = movies[idx]\n",
    "        # Note to self: \\ enables you split a long line of code into two lines\n",
    "        if (keyword not in movie['title']) and (keyword not in movie[\"genres\"]) \\\n",
    "        and (keyword not in movie[\"directors\"]) and (keyword not in movie[\"actors\"]):\n",
    "            movies.pop(idx)\n",
    "        else:\n",
    "            idx += 1\n",
    "    return movies"
   ]
  },
  {
   "cell_type": "code",
   "execution_count": 147,
   "id": "1a971074",
   "metadata": {},
   "outputs": [
    {
     "data": {
      "text/plain": [
       "[{'title': 'Lady Bird',\n",
       "  'year': 2017,\n",
       "  'genres': ['Comedy', 'Drama'],\n",
       "  'duration': 94,\n",
       "  'directors': ['Greta Gerwig'],\n",
       "  'actors': ['Saoirse Ronan', 'Laurie Metcalf'],\n",
       "  'rating': 7.4},\n",
       " {'title': 'Little Women',\n",
       "  'year': 2019,\n",
       "  'genres': ['Drama', 'Romance'],\n",
       "  'duration': 135,\n",
       "  'directors': ['Greta Gerwig'],\n",
       "  'actors': ['Saoirse Ronan', 'Emma Watson', 'Florence Pugh', 'Eliza Scanlen'],\n",
       "  'rating': 7.8},\n",
       " {'title': 'Nights and Weekends',\n",
       "  'year': 2008,\n",
       "  'genres': ['Drama', 'Romance'],\n",
       "  'duration': 80,\n",
       "  'directors': ['Greta Gerwig', 'Joe Swanberg'],\n",
       "  'actors': ['Joe Swanberg', 'Jay Duplass', 'Elizabeth Donius'],\n",
       "  'rating': 6.1}]"
      ]
     },
     "execution_count": 147,
     "metadata": {},
     "output_type": "execute_result"
    }
   ],
   "source": [
    "#Q14: List all the movies in the dataset that Greta Gerwig has directed.\n",
    "\n",
    "# Find all the movies that have Greta's name under any field\n",
    "gg_copy = copy.deepcopy(movies)\n",
    "gg_movies = find_specific_movies(gg_copy, \"Greta Gerwig\")\n",
    "gg_director = []\n",
    "\n",
    "# Loop through that list to check if greta is the director of the movie and add it to the director list\n",
    "for idx in range(len(gg_movies)):\n",
    "    if \"Greta Gerwig\" in gg_movies[idx]['directors']:\n",
    "        gg_director.append(gg_movies[idx])\n",
    "gg_director"
   ]
  },
  {
   "cell_type": "code",
   "execution_count": 148,
   "id": "33d101f9",
   "metadata": {},
   "outputs": [
    {
     "data": {
      "text/plain": [
       "['Crime',\n",
       " 'Thriller',\n",
       " 'Action',\n",
       " 'Adventure',\n",
       " 'Western',\n",
       " 'Drama',\n",
       " 'Sci-Fi',\n",
       " 'Romance',\n",
       " 'Mystery',\n",
       " 'Comedy',\n",
       " 'Biography']"
      ]
     },
     "execution_count": 148,
     "metadata": {},
     "output_type": "execute_result"
    }
   ],
   "source": [
    "#Q15: Which genres of movies did Leonardo DiCaprio ever appear in?\n",
    "ldc_copy = copy.deepcopy(movies)\n",
    "ldc_list = find_specific_movies(ldc_copy, \"Leonardo DiCaprio\")\n",
    "ldc_genres = set()\n",
    "\n",
    "for movie in ldc_list:\n",
    "    for genre in movie[\"genres\"]:\n",
    "        ldc_genres.add(genre) \n",
    "list(ldc_genres)"
   ]
  },
  {
   "cell_type": "code",
   "execution_count": 167,
   "id": "e09ba0bb",
   "metadata": {},
   "outputs": [],
   "source": [
    "def bucketize_by_genre(movies):\n",
    "    \"\"\"Given a list of movie dictionaries,\n",
    "    returns a dict in which the key is the genre and\n",
    "    the value is a list of all movies that contain that genre\"\"\"\n",
    "    \n",
    "    genres_dict = {}\n",
    "    \n",
    "    for movie in movies: \n",
    "        for genre in movie[\"genres\"]:\n",
    "            if genre not in genres_dict:\n",
    "                genres_dict[genre] = []\n",
    "            genres_dict[genre].append(movie)\n",
    "    \n",
    "    return genres_dict\n"
   ]
  },
  {
   "cell_type": "code",
   "execution_count": 170,
   "id": "23e48884",
   "metadata": {},
   "outputs": [],
   "source": [
    "def bucketize_by_actors(movies):\n",
    "    \"\"\"Given a list of movie dictionaries,\n",
    "    returns a dict in which the key is the genre and\n",
    "    the value is a list of all movies that contain that genre\"\"\"\n",
    "    \n",
    "    actors_dict = {}\n",
    "    \n",
    "    for movie in movies: \n",
    "        for actor in movie[\"actors\"]:\n",
    "            if actor not in actors_dict:\n",
    "                actors_dict[actor] = []\n",
    "            actors_dict[actor].append(movie)\n",
    "    \n",
    "    return actors_dict\n"
   ]
  },
  {
   "cell_type": "code",
   "execution_count": 172,
   "id": "d47f4133",
   "metadata": {},
   "outputs": [],
   "source": [
    "def bucketize_by_directors(movies):\n",
    "    \"\"\"Given a list of movie dictionaries,\n",
    "    returns a dict in which the key is the genre and\n",
    "    the value is a list of all movies that contain that genre\"\"\"\n",
    "    \n",
    "    directors_dict = {}\n",
    "    \n",
    "    for movie in movies: \n",
    "        for director in movie[\"directors\"]:\n",
    "            if director not in directors_dict:\n",
    "                directors_dict[director] = []\n",
    "            directors_dict[actor].append(movie)\n",
    "    \n",
    "    return directors_dict\n"
   ]
  },
  {
   "cell_type": "code",
   "execution_count": 201,
   "id": "2b7d928f",
   "metadata": {},
   "outputs": [
    {
     "data": {
      "text/plain": [
       "24"
      ]
     },
     "execution_count": 201,
     "metadata": {},
     "output_type": "execute_result"
    }
   ],
   "source": [
    "genres_dict = bucketize_by_genre(movies)"
   ]
  },
  {
   "cell_type": "code",
   "execution_count": 179,
   "id": "1129d952",
   "metadata": {},
   "outputs": [
    {
     "data": {
      "text/plain": [
       "['Horror',\n",
       " 'Music',\n",
       " 'Thriller',\n",
       " 'News',\n",
       " 'Western',\n",
       " 'Drama',\n",
       " 'Musical',\n",
       " 'Comedy',\n",
       " 'Film-Noir',\n",
       " 'War',\n",
       " 'Sci-Fi',\n",
       " 'Animation',\n",
       " 'Reality-TV',\n",
       " 'Sport',\n",
       " 'Family',\n",
       " 'Crime',\n",
       " 'Adventure',\n",
       " 'Romance',\n",
       " 'Fantasy',\n",
       " 'History',\n",
       " 'Action',\n",
       " 'Mystery',\n",
       " 'Documentary',\n",
       " 'Biography']"
      ]
     },
     "execution_count": 179,
     "metadata": {},
     "output_type": "execute_result"
    }
   ],
   "source": [
    "#Q16: List the unique genres present in the movies dataset.\n",
    "list(set(list(genres_dict.keys())))"
   ]
  },
  {
   "cell_type": "code",
   "execution_count": 180,
   "id": "a5ca38d9",
   "metadata": {},
   "outputs": [
    {
     "data": {
      "text/plain": [
       "11130"
      ]
     },
     "execution_count": 180,
     "metadata": {},
     "output_type": "execute_result"
    }
   ],
   "source": [
    "#Q17: How many Comedy movies do we have in the movies dataset?\n",
    "len(genres_dict[\"Comedy\"])"
   ]
  },
  {
   "cell_type": "code",
   "execution_count": 185,
   "id": "9141fe96",
   "metadata": {},
   "outputs": [
    {
     "data": {
      "text/plain": [
       "'Hopeful Notes'"
      ]
     },
     "execution_count": 185,
     "metadata": {},
     "output_type": "execute_result"
    }
   ],
   "source": [
    "#Q18: What is the title of the Drama movie has the highest rating in the movies dataset?\n",
    "drama_movies = genres_dict[\"Drama\"]\n",
    "\n",
    "max_rating = None\n",
    "max_title = None\n",
    "for movie in drama_movies:\n",
    "    if max_rating == None or movie[\"rating\"] > max_rating:\n",
    "        max_rating = movie[\"rating\"]\n",
    "        max_title = movie[\"title\"]\n",
    "max_title   "
   ]
  },
  {
   "cell_type": "code",
   "execution_count": 194,
   "id": "fbc98682",
   "metadata": {},
   "outputs": [
    {
     "data": {
      "text/plain": [
       "['Drama',\n",
       " 'Horror',\n",
       " 'Sci-Fi',\n",
       " 'Biography',\n",
       " 'Romance',\n",
       " 'Thriller',\n",
       " 'Action',\n",
       " 'Crime',\n",
       " 'Comedy',\n",
       " 'Adventure',\n",
       " 'Family',\n",
       " 'Fantasy']"
      ]
     },
     "execution_count": 194,
     "metadata": {},
     "output_type": "execute_result"
    }
   ],
   "source": [
    "#Q19: List all the genres of movies that Daniel Radcliffe has ever acted in.\n",
    "dr_copy = copy.deepcopy(movies)\n",
    "dr_movies = find_specific_movies(dr_copy, \"Daniel Radcliffe\")\n",
    "dr_genre_dict = bucketize_by_genre(dr_movies)\n",
    "list(dr_genre_dict.keys())"
   ]
  },
  {
   "cell_type": "code",
   "execution_count": 215,
   "id": "56ee1c57",
   "metadata": {},
   "outputs": [
    {
     "data": {
      "text/plain": [
       "'Music'"
      ]
     },
     "execution_count": 215,
     "metadata": {},
     "output_type": "execute_result"
    }
   ],
   "source": [
    "#Q20: Which movie genre does the actress Jennifer Aniston play the least?\n",
    "ja_copy = copy.deepcopy(movies)\n",
    "ja_movies = find_specific_movies(ja_copy, \"Jennifer Aniston\")\n",
    "ja_genre_dict = bucketize_by_genre(ja_movies)\n",
    "\n",
    "min_len = None\n",
    "min_name = None\n",
    "\n",
    "for genre in ja_genre_dict:\n",
    "    if min_len == None or len(ja_genre_dict[genre]) <= min_len:\n",
    "        min_len = len(ja_genre_dict[genre])\n",
    "        min_name = genre\n",
    "min_name"
   ]
  }
 ],
 "metadata": {
  "kernelspec": {
   "display_name": "Python 3 (ipykernel)",
   "language": "python",
   "name": "python3"
  },
  "language_info": {
   "codemirror_mode": {
    "name": "ipython",
    "version": 3
   },
   "file_extension": ".py",
   "mimetype": "text/x-python",
   "name": "python",
   "nbconvert_exporter": "python",
   "pygments_lexer": "ipython3",
   "version": "3.9.7"
  }
 },
 "nbformat": 4,
 "nbformat_minor": 5
}
